{
 "cells": [
  {
   "cell_type": "code",
   "execution_count": 1,
   "id": "aaf0d827",
   "metadata": {},
   "outputs": [],
   "source": [
    "# Python for Everybody by Dr. Chuck"
   ]
  },
  {
   "cell_type": "code",
   "execution_count": 2,
   "id": "d7cc1092",
   "metadata": {},
   "outputs": [],
   "source": [
    "# Some loop patterns "
   ]
  },
  {
   "cell_type": "code",
   "execution_count": 7,
   "id": "1d4a6caa",
   "metadata": {},
   "outputs": [
    {
     "name": "stdout",
     "output_type": "stream",
     "text": [
      "Before -1\n",
      "9 9\n",
      "41 41\n",
      "41 12\n",
      "41 3\n",
      "74 74\n",
      "74 15\n",
      "After 74\n"
     ]
    }
   ],
   "source": [
    "# No.1 Find the largest number \n",
    "largest_so_far = -1 \n",
    "print ('Before', largest_so_far)\n",
    "for the_num in [9,41,12,3,74,15]:\n",
    "    if the_num > largest_so_far:\n",
    "        largest_so_far = the_num \n",
    "    print(largest_so_far, the_num)\n",
    "    \n",
    "print ('After', largest_so_far)"
   ]
  },
  {
   "cell_type": "code",
   "execution_count": 8,
   "id": "46dd13ec",
   "metadata": {},
   "outputs": [
    {
     "name": "stdout",
     "output_type": "stream",
     "text": [
      "Before 0\n",
      "1 9\n",
      "2 41\n",
      "3 13\n",
      "4 4\n",
      "5 76\n",
      "6 15\n",
      "After 6\n"
     ]
    }
   ],
   "source": [
    "# No.2 Counting in a Loop\n",
    "count = 0\n",
    "print ('Before',count)\n",
    "for thing in [9,41,13,4,76,15]:\n",
    "    count = count+1\n",
    "    print (count, thing)\n",
    "print ('After', count)"
   ]
  },
  {
   "cell_type": "code",
   "execution_count": 9,
   "id": "2b3cfe60",
   "metadata": {},
   "outputs": [
    {
     "name": "stdout",
     "output_type": "stream",
     "text": [
      "Before 0\n",
      "9 9\n",
      "50 41\n",
      "63 13\n",
      "67 4\n",
      "143 76\n",
      "158 15\n",
      "After 158\n"
     ]
    }
   ],
   "source": [
    "# Summing \n",
    "summing = 0\n",
    "print('Before',summing)\n",
    "for thing in [9,41,13,4,76,15]:\n",
    "    summing = summing + thing\n",
    "    print(summing, thing)\n",
    "print ('After',summing)\n"
   ]
  },
  {
   "cell_type": "code",
   "execution_count": 12,
   "id": "4945eb92",
   "metadata": {},
   "outputs": [
    {
     "name": "stdout",
     "output_type": "stream",
     "text": [
      "Before\n",
      "9 9\n",
      "9 41\n",
      "9 12\n",
      "3 3\n",
      "3 74\n",
      "3 15\n",
      "After 3\n"
     ]
    }
   ],
   "source": [
    "# Find the smallest number \n",
    "smallest = None \n",
    "print ('Before')\n",
    "for the_num in [9,41,12,3,74,15]:\n",
    "    if smallest is None:\n",
    "        smallest = the_num\n",
    "    elif the_num < smallest:\n",
    "        smallest = the_num\n",
    "    print(smallest, the_num)\n",
    "    \n",
    "print ('After', smallest)"
   ]
  },
  {
   "cell_type": "code",
   "execution_count": null,
   "id": "de627cb2",
   "metadata": {},
   "outputs": [],
   "source": []
  }
 ],
 "metadata": {
  "kernelspec": {
   "display_name": "Python 3 (ipykernel)",
   "language": "python",
   "name": "python3"
  },
  "language_info": {
   "codemirror_mode": {
    "name": "ipython",
    "version": 3
   },
   "file_extension": ".py",
   "mimetype": "text/x-python",
   "name": "python",
   "nbconvert_exporter": "python",
   "pygments_lexer": "ipython3",
   "version": "3.7.4"
  }
 },
 "nbformat": 4,
 "nbformat_minor": 5
}
